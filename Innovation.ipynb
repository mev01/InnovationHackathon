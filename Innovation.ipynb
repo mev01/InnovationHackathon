{
 "cells": [
  {
   "cell_type": "markdown",
   "metadata": {},
   "source": [
    "# 식재료 통한 밀키트 레시피 구성"
   ]
  },
  {
   "cell_type": "markdown",
   "metadata": {},
   "source": [
    "# 1. 데이터 추출"
   ]
  },
  {
   "cell_type": "markdown",
   "metadata": {},
   "source": [
    "저당식재료 : 100 g 당 총 당류 5g 미만  \n",
    "저염식재료 : 나트륨 100g당 120㎎ 미만일 때  \n",
    "고단백 재료 :　단백질 100g 당 6g 이상  \n",
    "고면역 재료 : 100g 당 아연 8.5mg 이상  \n",
    "채식은 건너뛰고 바로 검색으로  \n",
    "저칼로리 재료 : 100g 당 칼로리 40이하"
   ]
  },
  {
   "cell_type": "code",
   "execution_count": 1,
   "metadata": {},
   "outputs": [],
   "source": [
    "import pandas as pd\n",
    "import numpy as np\n",
    "\n",
    "import seaborn as sns\n",
    "import matplotlib.pyplot as plt\n",
    "plt.rc('font',family='Malgun Gothic')\n",
    "%matplotlib inline"
   ]
  },
  {
   "cell_type": "code",
   "execution_count": 72,
   "metadata": {},
   "outputs": [],
   "source": [
    "dt = pd.read_csv(\"data/통합 식품영양성분DB_20200824.csv\", encoding='CP949')"
   ]
  },
  {
   "cell_type": "code",
   "execution_count": 73,
   "metadata": {
    "scrolled": true
   },
   "outputs": [],
   "source": [
    "null_count = dt.isnull().sum()\n",
    "# null_count"
   ]
  },
  {
   "cell_type": "code",
   "execution_count": 74,
   "metadata": {},
   "outputs": [
    {
     "data": {
      "text/plain": [
       "가공식품    18746\n",
       "음식       7374\n",
       "농축산물     3088\n",
       "수산물      1366\n",
       "Name: DB군, dtype: int64"
      ]
     },
     "execution_count": 74,
     "metadata": {},
     "output_type": "execute_result"
    }
   ],
   "source": [
    "dt[\"DB군\"].value_counts()"
   ]
  },
  {
   "cell_type": "code",
   "execution_count": 75,
   "metadata": {},
   "outputs": [],
   "source": [
    "col=dt.columns.tolist()"
   ]
  },
  {
   "cell_type": "code",
   "execution_count": 76,
   "metadata": {},
   "outputs": [],
   "source": [
    "## 식품군에서 농축산물과 수산물만 추출\n",
    "dt_g=dt[ dt[\"DB군\"] == \"농축산물\"].copy()\n",
    "dt_w=dt[ dt[\"DB군\"] == \"수산물\"].copy()"
   ]
  },
  {
   "cell_type": "code",
   "execution_count": 77,
   "metadata": {},
   "outputs": [],
   "source": [
    "## 식품군에서 식품명 정리\n",
    "dt_g[\"식품명\"] = dt_g[\"식품명\"].map(lambda x : str(x.split(\",\")[0]))\n",
    "dt_w[\"식품명\"] = dt_w[\"식품명\"].map(lambda x : str(x.split(\"-\")[0]))"
   ]
  },
  {
   "cell_type": "code",
   "execution_count": 78,
   "metadata": {},
   "outputs": [],
   "source": [
    "## 데이터프레임 병합\n",
    "dt_db=pd.concat([dt_g,dt_w])"
   ]
  },
  {
   "cell_type": "code",
   "execution_count": 79,
   "metadata": {},
   "outputs": [],
   "source": [
    "## 필요한 영양소 추출\n",
    "dt_ar=dt_db.loc[:, ['식품명','총당류(g)','나트륨(㎎)','단백질(g)','아연(㎎)','에너지(㎉)','칼슘(㎎)','칼륨(㎎)','비타민 C(㎎)','총 식이섬유(g)']]"
   ]
  },
  {
   "cell_type": "code",
   "execution_count": 80,
   "metadata": {},
   "outputs": [],
   "source": [
    "## 식품명 중복제거\n",
    "dt_ar = dt_ar.drop_duplicates('식품명', keep='first')\n",
    "dt_ar = dt_ar.drop_duplicates('식품명', keep='first')\n",
    "dt_ar=dt_ar[ dt_ar[\"식품명\"] != \"감자 튀김\"].copy()"
   ]
  },
  {
   "cell_type": "code",
   "execution_count": 81,
   "metadata": {
    "scrolled": false
   },
   "outputs": [
    {
     "data": {
      "text/html": [
       "<div>\n",
       "<style scoped>\n",
       "    .dataframe tbody tr th:only-of-type {\n",
       "        vertical-align: middle;\n",
       "    }\n",
       "\n",
       "    .dataframe tbody tr th {\n",
       "        vertical-align: top;\n",
       "    }\n",
       "\n",
       "    .dataframe thead th {\n",
       "        text-align: right;\n",
       "    }\n",
       "</style>\n",
       "<table border=\"1\" class=\"dataframe\">\n",
       "  <thead>\n",
       "    <tr style=\"text-align: right;\">\n",
       "      <th></th>\n",
       "      <th>식품명</th>\n",
       "      <th>총당류(g)</th>\n",
       "      <th>나트륨(㎎)</th>\n",
       "      <th>단백질(g)</th>\n",
       "      <th>아연(㎎)</th>\n",
       "      <th>에너지(㎉)</th>\n",
       "      <th>칼슘(㎎)</th>\n",
       "      <th>칼륨(㎎)</th>\n",
       "      <th>비타민 C(㎎)</th>\n",
       "      <th>총 식이섬유(g)</th>\n",
       "    </tr>\n",
       "  </thead>\n",
       "  <tbody>\n",
       "    <tr>\n",
       "      <td>27486</td>\n",
       "      <td>귀리</td>\n",
       "      <td>0.0</td>\n",
       "      <td>2.0</td>\n",
       "      <td>11.40</td>\n",
       "      <td>0.00</td>\n",
       "      <td>373.0</td>\n",
       "      <td>16.0</td>\n",
       "      <td>574.0</td>\n",
       "      <td>0.0</td>\n",
       "      <td>0.0</td>\n",
       "    </tr>\n",
       "    <tr>\n",
       "      <td>27489</td>\n",
       "      <td>기장</td>\n",
       "      <td>0.0</td>\n",
       "      <td>6.0</td>\n",
       "      <td>11.20</td>\n",
       "      <td>0.00</td>\n",
       "      <td>360.0</td>\n",
       "      <td>15.0</td>\n",
       "      <td>233.0</td>\n",
       "      <td>0.0</td>\n",
       "      <td>0.0</td>\n",
       "    </tr>\n",
       "    <tr>\n",
       "      <td>27491</td>\n",
       "      <td>메밀</td>\n",
       "      <td>0.5</td>\n",
       "      <td>1.0</td>\n",
       "      <td>13.64</td>\n",
       "      <td>3.09</td>\n",
       "      <td>363.0</td>\n",
       "      <td>21.0</td>\n",
       "      <td>444.0</td>\n",
       "      <td>0.0</td>\n",
       "      <td>6.3</td>\n",
       "    </tr>\n",
       "    <tr>\n",
       "      <td>27493</td>\n",
       "      <td>메밀 국수</td>\n",
       "      <td>0.0</td>\n",
       "      <td>455.0</td>\n",
       "      <td>7.59</td>\n",
       "      <td>0.30</td>\n",
       "      <td>291.0</td>\n",
       "      <td>13.0</td>\n",
       "      <td>116.0</td>\n",
       "      <td>0.0</td>\n",
       "      <td>1.9</td>\n",
       "    </tr>\n",
       "    <tr>\n",
       "      <td>27497</td>\n",
       "      <td>메밀 냉면</td>\n",
       "      <td>0.0</td>\n",
       "      <td>628.0</td>\n",
       "      <td>10.74</td>\n",
       "      <td>0.77</td>\n",
       "      <td>360.0</td>\n",
       "      <td>27.0</td>\n",
       "      <td>176.0</td>\n",
       "      <td>0.0</td>\n",
       "      <td>3.2</td>\n",
       "    </tr>\n",
       "    <tr>\n",
       "      <td>...</td>\n",
       "      <td>...</td>\n",
       "      <td>...</td>\n",
       "      <td>...</td>\n",
       "      <td>...</td>\n",
       "      <td>...</td>\n",
       "      <td>...</td>\n",
       "      <td>...</td>\n",
       "      <td>...</td>\n",
       "      <td>...</td>\n",
       "      <td>...</td>\n",
       "    </tr>\n",
       "    <tr>\n",
       "      <td>8728</td>\n",
       "      <td>치어</td>\n",
       "      <td>0.0</td>\n",
       "      <td>0.0</td>\n",
       "      <td>15.60</td>\n",
       "      <td>0.00</td>\n",
       "      <td>0.0</td>\n",
       "      <td>0.0</td>\n",
       "      <td>0.0</td>\n",
       "      <td>0.0</td>\n",
       "      <td>0.0</td>\n",
       "    </tr>\n",
       "    <tr>\n",
       "      <td>8731</td>\n",
       "      <td>향어(이스라엘잉어)</td>\n",
       "      <td>0.0</td>\n",
       "      <td>0.0</td>\n",
       "      <td>25.80</td>\n",
       "      <td>0.00</td>\n",
       "      <td>0.0</td>\n",
       "      <td>0.0</td>\n",
       "      <td>0.0</td>\n",
       "      <td>0.0</td>\n",
       "      <td>0.0</td>\n",
       "    </tr>\n",
       "    <tr>\n",
       "      <td>8733</td>\n",
       "      <td>화살꼴뚜기</td>\n",
       "      <td>0.0</td>\n",
       "      <td>0.0</td>\n",
       "      <td>15.00</td>\n",
       "      <td>0.00</td>\n",
       "      <td>0.0</td>\n",
       "      <td>0.0</td>\n",
       "      <td>0.0</td>\n",
       "      <td>0.0</td>\n",
       "      <td>0.0</td>\n",
       "    </tr>\n",
       "    <tr>\n",
       "      <td>8735</td>\n",
       "      <td>황석어(강달이류)</td>\n",
       "      <td>0.0</td>\n",
       "      <td>0.0</td>\n",
       "      <td>12.00</td>\n",
       "      <td>0.00</td>\n",
       "      <td>88.0</td>\n",
       "      <td>279.0</td>\n",
       "      <td>0.0</td>\n",
       "      <td>0.0</td>\n",
       "      <td>0.0</td>\n",
       "    </tr>\n",
       "    <tr>\n",
       "      <td>8736</td>\n",
       "      <td>흑해삼</td>\n",
       "      <td>0.0</td>\n",
       "      <td>0.0</td>\n",
       "      <td>0.00</td>\n",
       "      <td>0.00</td>\n",
       "      <td>0.0</td>\n",
       "      <td>0.0</td>\n",
       "      <td>0.0</td>\n",
       "      <td>0.0</td>\n",
       "      <td>0.0</td>\n",
       "    </tr>\n",
       "  </tbody>\n",
       "</table>\n",
       "<p>1375 rows × 10 columns</p>\n",
       "</div>"
      ],
      "text/plain": [
       "              식품명  총당류(g)  나트륨(㎎)  단백질(g)  아연(㎎)  에너지(㎉)  칼슘(㎎)  칼륨(㎎)  \\\n",
       "27486          귀리     0.0     2.0   11.40   0.00   373.0   16.0  574.0   \n",
       "27489          기장     0.0     6.0   11.20   0.00   360.0   15.0  233.0   \n",
       "27491          메밀     0.5     1.0   13.64   3.09   363.0   21.0  444.0   \n",
       "27493       메밀 국수     0.0   455.0    7.59   0.30   291.0   13.0  116.0   \n",
       "27497       메밀 냉면     0.0   628.0   10.74   0.77   360.0   27.0  176.0   \n",
       "...           ...     ...     ...     ...    ...     ...    ...    ...   \n",
       "8728           치어     0.0     0.0   15.60   0.00     0.0    0.0    0.0   \n",
       "8731   향어(이스라엘잉어)     0.0     0.0   25.80   0.00     0.0    0.0    0.0   \n",
       "8733        화살꼴뚜기     0.0     0.0   15.00   0.00     0.0    0.0    0.0   \n",
       "8735    황석어(강달이류)     0.0     0.0   12.00   0.00    88.0  279.0    0.0   \n",
       "8736          흑해삼     0.0     0.0    0.00   0.00     0.0    0.0    0.0   \n",
       "\n",
       "       비타민 C(㎎)  총 식이섬유(g)  \n",
       "27486       0.0        0.0  \n",
       "27489       0.0        0.0  \n",
       "27491       0.0        6.3  \n",
       "27493       0.0        1.9  \n",
       "27497       0.0        3.2  \n",
       "...         ...        ...  \n",
       "8728        0.0        0.0  \n",
       "8731        0.0        0.0  \n",
       "8733        0.0        0.0  \n",
       "8735        0.0        0.0  \n",
       "8736        0.0        0.0  \n",
       "\n",
       "[1375 rows x 10 columns]"
      ]
     },
     "execution_count": 81,
     "metadata": {},
     "output_type": "execute_result"
    }
   ],
   "source": [
    "dt_ar"
   ]
  },
  {
   "cell_type": "code",
   "execution_count": 16,
   "metadata": {},
   "outputs": [],
   "source": [
    "dt_ar.to_csv('data/nutrition.csv',encoding='euc-kr')"
   ]
  },
  {
   "cell_type": "code",
   "execution_count": 17,
   "metadata": {},
   "outputs": [],
   "source": [
    "ns = pd.read_csv(\"data/부족영양성분.csv\", encoding='CP949')\n",
    "ns=ns.sort_values(by=['19-39'], axis=0)"
   ]
  },
  {
   "cell_type": "code",
   "execution_count": 18,
   "metadata": {},
   "outputs": [],
   "source": [
    "%matplotlib inline\n",
    "import os\n",
    "\n",
    "if os.name == 'posix':\n",
    "    plt.rc(\"font\", family=\"AppleGothic\")\n",
    "else:\n",
    "    plt.rc(\"font\", family=\"Malgun Gothic\")\n",
    "plt.rc(\"axes\", unicode_minus=False)\n",
    "%config InlineBackend.figure_format = 'retina'"
   ]
  },
  {
   "cell_type": "code",
   "execution_count": 20,
   "metadata": {},
   "outputs": [
    {
     "data": {
      "text/plain": [
       "<matplotlib.axes._subplots.AxesSubplot at 0x1b5131c3488>"
      ]
     },
     "execution_count": 20,
     "metadata": {},
     "output_type": "execute_result"
    },
    {
     "data": {
      "image/png": "[encoded data removed]",
      "text/plain": [
       "<Figure size 864x576 with 1 Axes>"
      ]
     },
     "metadata": {
      "image/png": {
       "height": 496,
       "width": 755
      },
      "needs_background": "light"
     },
     "output_type": "display_data"
    }
   ],
   "source": [
    "# matplotlib.rcParams['axes.unicode_minus'] = False\n",
    "sequential_colors = sns.color_palette(\"RdBu\", 10)\n",
    "sns.set_palette(sequential_colors)\n",
    "plt.figure(figsize=(12,8))\n",
    "plt.title(\"2030대 영양소 섭취 비율\")\n",
    "plt.rc('font', size=12) \n",
    "sns.barplot(data=ns, x=\"19-39\",y=\"영양소\")"
   ]
  },
  {
   "cell_type": "markdown",
   "metadata": {},
   "source": [
    "## -> 부족영양소: 비타민A, 비타민C, 칼슘, 칼륨, 식이섬유"
   ]
  },
  {
   "cell_type": "markdown",
   "metadata": {},
   "source": [
    "# 2. 영양소 별 정렬"
   ]
  },
  {
   "cell_type": "markdown",
   "metadata": {},
   "source": [
    "### 1) 당"
   ]
  },
  {
   "cell_type": "code",
   "execution_count": 85,
   "metadata": {},
   "outputs": [],
   "source": [
    "dt_ar1=dt_ar.loc[:, ['식품명','총당류(g)']]"
   ]
  },
  {
   "cell_type": "code",
   "execution_count": 86,
   "metadata": {},
   "outputs": [],
   "source": [
    "dt_ar1=dt_ar1[ dt_ar1[\"총당류(g)\"] != 0].copy()\n",
    "dt_ar1=dt_ar1.sort_values(by=['총당류(g)'], axis=0)"
   ]
  },
  {
   "cell_type": "code",
   "execution_count": 87,
   "metadata": {
    "scrolled": true
   },
   "outputs": [
    {
     "data": {
      "text/plain": [
       "['위스키', '녹두묵', '파래', '전분', '헛개차', '보이차']"
      ]
     },
     "execution_count": 87,
     "metadata": {},
     "output_type": "execute_result"
    }
   ],
   "source": [
    "list1=dt_ar1.식품명.tolist()\n",
    "list1[:6]"
   ]
  },
  {
   "cell_type": "markdown",
   "metadata": {},
   "source": [
    "### 총당류 0을 제외하고 당류가 낮은 순으로 식재료를 뽑으면 식재료에 쓰기 힘든 재료가 많음"
   ]
  },
  {
   "cell_type": "markdown",
   "metadata": {},
   "source": [
    "### 2) 나트륨"
   ]
  },
  {
   "cell_type": "code",
   "execution_count": 27,
   "metadata": {
    "scrolled": true
   },
   "outputs": [],
   "source": [
    "dt_ar2=dt_ar.loc[:, ['식품명','나트륨(㎎)']]\n",
    "dt_ar2=dt_ar2[ dt_ar2[\"나트륨(㎎)\"] != 0].copy()\n",
    "dt_ar2=dt_ar2.sort_values(by=['나트륨(㎎)'], axis=0)\n",
    "list2=dt_ar2.식품명.tolist()\n",
    "# list2[:40]"
   ]
  },
  {
   "cell_type": "markdown",
   "metadata": {},
   "source": [
    "### 3) 단백질"
   ]
  },
  {
   "cell_type": "code",
   "execution_count": 28,
   "metadata": {
    "scrolled": true
   },
   "outputs": [],
   "source": [
    "dt_ar3=dt_ar.loc[:, ['식품명','단백질(g)']]\n",
    "dt_ar3=dt_ar3[ dt_ar3[\"단백질(g)\"] != 0].copy()\n",
    "dt_ar3=dt_ar3.sort_values(by=['단백질(g)'], axis=0)\n",
    "list3=dt_ar3.식품명.tolist()\n",
    "# list3[:100]"
   ]
  },
  {
   "cell_type": "markdown",
   "metadata": {},
   "source": [
    "### 4) 아연"
   ]
  },
  {
   "cell_type": "code",
   "execution_count": 29,
   "metadata": {
    "scrolled": true
   },
   "outputs": [],
   "source": [
    "dt_ar4=dt_ar.loc[:, ['식품명','아연(㎎)']]\n",
    "dt_ar4=dt_ar4[ dt_ar4[\"아연(㎎)\"] != 0].copy()\n",
    "dt_ar4=dt_ar4.sort_values(by=['아연(㎎)'], axis=0)\n",
    "list4=dt_ar4.식품명.tolist()\n",
    "# list4[:100]"
   ]
  },
  {
   "cell_type": "markdown",
   "metadata": {},
   "source": [
    "### 5) 에너지"
   ]
  },
  {
   "cell_type": "code",
   "execution_count": 30,
   "metadata": {
    "scrolled": true
   },
   "outputs": [],
   "source": [
    "dt_ar5=dt_ar.loc[:, ['식품명','에너지(㎉)']]\n",
    "dt_ar5=dt_ar5[ dt_ar5[\"에너지(㎉)\"] != 0].copy()\n",
    "dt_ar5=dt_ar5.sort_values(by=['에너지(㎉)'], axis=0)\n",
    "list5=dt_ar5.식품명.tolist()\n",
    "# list5[:100]"
   ]
  },
  {
   "cell_type": "markdown",
   "metadata": {},
   "source": [
    "## 3. 최종 리스트 생성\n",
    "### 2030대에게 부족한 영양소 이용해 식재료 다시 추출\n",
    "### 점수=총당류**0.5+부족영양소**0.5"
   ]
  },
  {
   "cell_type": "code",
   "execution_count": 82,
   "metadata": {},
   "outputs": [],
   "source": [
    "abc=dt_ar"
   ]
  },
  {
   "cell_type": "code",
   "execution_count": 83,
   "metadata": {},
   "outputs": [],
   "source": [
    "dt_ar[\"칼슘(㎎)\"]=dt_ar[\"칼슘(㎎)\"]/(750/3)*100\n",
    "dt_ar[\"칼륨(㎎)\"]=dt_ar[\"칼륨(㎎)\"]/(3500/3)*100\n",
    "dt_ar[\"비타민 C(㎎)\"]=dt_ar[\"비타민 C(㎎)\"]/(100/3)*100\n",
    "dt_ar[\"총 식이섬유(g)\"]=dt_ar[\"총 식이섬유(g)\"]/(25/3)*100"
   ]
  },
  {
   "cell_type": "code",
   "execution_count": 84,
   "metadata": {},
   "outputs": [],
   "source": [
    "#dt_ar"
   ]
  },
  {
   "cell_type": "code",
   "execution_count": 88,
   "metadata": {},
   "outputs": [],
   "source": [
    "dt_la1=dt_ar.loc[:, ['식품명','총당류(g)','칼슘(㎎)','칼륨(㎎)','비타민 C(㎎)','총 식이섬유(g)']]\n",
    "dt_la1=dt_la1[ dt_la1[\"총당류(g)\"] != 0].copy()\n",
    "dt_la1[\"최종치\"]=(100-(dt_la1[\"총당류(g)\"]/(5/3)*100))*0.5+(dt_la1[\"칼슘(㎎)\"]+dt_la1[\"칼륨(㎎)\"]+dt_la1[\"비타민 C(㎎)\"]+dt_la1[\"총 식이섬유(g)\"])*0.5"
   ]
  },
  {
   "cell_type": "code",
   "execution_count": 89,
   "metadata": {},
   "outputs": [],
   "source": [
    "dt_la1[\"최종치\"]=(dt_la1[\"최종치\"]-100)*(dt_la1[\"최종치\"]-100)\n",
    "dt_la1=dt_la1.sort_values(by=['최종치'], axis=0)\n",
    "dt_la1_head=dt_la1.head()"
   ]
  },
  {
   "cell_type": "code",
   "execution_count": 90,
   "metadata": {
    "scrolled": true
   },
   "outputs": [
    {
     "data": {
      "text/html": [
       "<div>\n",
       "<style scoped>\n",
       "    .dataframe tbody tr th:only-of-type {\n",
       "        vertical-align: middle;\n",
       "    }\n",
       "\n",
       "    .dataframe tbody tr th {\n",
       "        vertical-align: top;\n",
       "    }\n",
       "\n",
       "    .dataframe thead th {\n",
       "        text-align: right;\n",
       "    }\n",
       "</style>\n",
       "<table border=\"1\" class=\"dataframe\">\n",
       "  <thead>\n",
       "    <tr style=\"text-align: right;\">\n",
       "      <th></th>\n",
       "      <th>식품명</th>\n",
       "      <th>총당류(g)</th>\n",
       "      <th>칼슘(㎎)</th>\n",
       "      <th>칼륨(㎎)</th>\n",
       "      <th>비타민 C(㎎)</th>\n",
       "      <th>총 식이섬유(g)</th>\n",
       "      <th>최종치</th>\n",
       "    </tr>\n",
       "  </thead>\n",
       "  <tbody>\n",
       "    <tr>\n",
       "      <td>27904</td>\n",
       "      <td>렌즈콩(렌틸콩)</td>\n",
       "      <td>2.01</td>\n",
       "      <td>10.400000</td>\n",
       "      <td>8.005714e+01</td>\n",
       "      <td>0.00</td>\n",
       "      <td>126.0</td>\n",
       "      <td>4.290816e+00</td>\n",
       "    </tr>\n",
       "    <tr>\n",
       "      <td>27912</td>\n",
       "      <td>잠두</td>\n",
       "      <td>5.70</td>\n",
       "      <td>41.200000</td>\n",
       "      <td>9.102857e+01</td>\n",
       "      <td>4.20</td>\n",
       "      <td>300.0</td>\n",
       "      <td>7.760204e+00</td>\n",
       "    </tr>\n",
       "    <tr>\n",
       "      <td>28081</td>\n",
       "      <td>고추</td>\n",
       "      <td>1.80</td>\n",
       "      <td>6.000000</td>\n",
       "      <td>2.314286e+01</td>\n",
       "      <td>131.85</td>\n",
       "      <td>52.8</td>\n",
       "      <td>8.389298e+00</td>\n",
       "    </tr>\n",
       "    <tr>\n",
       "      <td>28104</td>\n",
       "      <td>곰취</td>\n",
       "      <td>1.10</td>\n",
       "      <td>54.000000</td>\n",
       "      <td>4.534286e+01</td>\n",
       "      <td>23.91</td>\n",
       "      <td>49.2</td>\n",
       "      <td>1.040984e+01</td>\n",
       "    </tr>\n",
       "    <tr>\n",
       "      <td>28200</td>\n",
       "      <td>마늘</td>\n",
       "      <td>0.23</td>\n",
       "      <td>4.800000</td>\n",
       "      <td>4.551429e+01</td>\n",
       "      <td>25.35</td>\n",
       "      <td>45.6</td>\n",
       "      <td>1.392889e+01</td>\n",
       "    </tr>\n",
       "    <tr>\n",
       "      <td>...</td>\n",
       "      <td>...</td>\n",
       "      <td>...</td>\n",
       "      <td>...</td>\n",
       "      <td>...</td>\n",
       "      <td>...</td>\n",
       "      <td>...</td>\n",
       "      <td>...</td>\n",
       "    </tr>\n",
       "    <tr>\n",
       "      <td>27845</td>\n",
       "      <td>꿀</td>\n",
       "      <td>72.60</td>\n",
       "      <td>0.400000</td>\n",
       "      <td>1.542857e+00</td>\n",
       "      <td>0.00</td>\n",
       "      <td>0.0</td>\n",
       "      <td>4.959656e+06</td>\n",
       "    </tr>\n",
       "    <tr>\n",
       "      <td>27870</td>\n",
       "      <td>젤라틴</td>\n",
       "      <td>86.04</td>\n",
       "      <td>1.200000</td>\n",
       "      <td>6.000000e-01</td>\n",
       "      <td>0.00</td>\n",
       "      <td>0.0</td>\n",
       "      <td>6.918478e+06</td>\n",
       "    </tr>\n",
       "    <tr>\n",
       "      <td>27885</td>\n",
       "      <td>포도당</td>\n",
       "      <td>88.30</td>\n",
       "      <td>0.000004</td>\n",
       "      <td>8.571429e-07</td>\n",
       "      <td>0.00</td>\n",
       "      <td>0.0</td>\n",
       "      <td>7.284601e+06</td>\n",
       "    </tr>\n",
       "    <tr>\n",
       "      <td>27861</td>\n",
       "      <td>설탕</td>\n",
       "      <td>97.81</td>\n",
       "      <td>0.400000</td>\n",
       "      <td>1.714286e-01</td>\n",
       "      <td>0.00</td>\n",
       "      <td>0.0</td>\n",
       "      <td>8.904341e+06</td>\n",
       "    </tr>\n",
       "    <tr>\n",
       "      <td>27841</td>\n",
       "      <td>과당</td>\n",
       "      <td>99.90</td>\n",
       "      <td>0.000004</td>\n",
       "      <td>8.571429e-07</td>\n",
       "      <td>0.00</td>\n",
       "      <td>0.0</td>\n",
       "      <td>9.284209e+06</td>\n",
       "    </tr>\n",
       "  </tbody>\n",
       "</table>\n",
       "<p>300 rows × 7 columns</p>\n",
       "</div>"
      ],
      "text/plain": [
       "            식품명  총당류(g)      칼슘(㎎)         칼륨(㎎)  비타민 C(㎎)  총 식이섬유(g)  \\\n",
       "27904  렌즈콩(렌틸콩)    2.01  10.400000  8.005714e+01      0.00      126.0   \n",
       "27912        잠두    5.70  41.200000  9.102857e+01      4.20      300.0   \n",
       "28081        고추    1.80   6.000000  2.314286e+01    131.85       52.8   \n",
       "28104        곰취    1.10  54.000000  4.534286e+01     23.91       49.2   \n",
       "28200        마늘    0.23   4.800000  4.551429e+01     25.35       45.6   \n",
       "...         ...     ...        ...           ...       ...        ...   \n",
       "27845         꿀   72.60   0.400000  1.542857e+00      0.00        0.0   \n",
       "27870       젤라틴   86.04   1.200000  6.000000e-01      0.00        0.0   \n",
       "27885       포도당   88.30   0.000004  8.571429e-07      0.00        0.0   \n",
       "27861        설탕   97.81   0.400000  1.714286e-01      0.00        0.0   \n",
       "27841        과당   99.90   0.000004  8.571429e-07      0.00        0.0   \n",
       "\n",
       "                최종치  \n",
       "27904  4.290816e+00  \n",
       "27912  7.760204e+00  \n",
       "28081  8.389298e+00  \n",
       "28104  1.040984e+01  \n",
       "28200  1.392889e+01  \n",
       "...             ...  \n",
       "27845  4.959656e+06  \n",
       "27870  6.918478e+06  \n",
       "27885  7.284601e+06  \n",
       "27861  8.904341e+06  \n",
       "27841  9.284209e+06  \n",
       "\n",
       "[300 rows x 7 columns]"
      ]
     },
     "execution_count": 90,
     "metadata": {},
     "output_type": "execute_result"
    }
   ],
   "source": [
    "dt_la1"
   ]
  },
  {
   "cell_type": "markdown",
   "metadata": {},
   "source": [
    "## 4. 필요 식재료 추출"
   ]
  },
  {
   "cell_type": "code",
   "execution_count": 91,
   "metadata": {
    "scrolled": true
   },
   "outputs": [
    {
     "data": {
      "text/plain": [
       "['렌즈콩(렌틸콩)',\n",
       " '잠두',\n",
       " '고추',\n",
       " '곰취',\n",
       " '마늘',\n",
       " '메밀',\n",
       " '아티초크',\n",
       " '퀴노아',\n",
       " '삼붕냐와',\n",
       " '구기자',\n",
       " '바질잎',\n",
       " '만두',\n",
       " '초석잠',\n",
       " '무 절임',\n",
       " '부지갱이(섬쑥부쟁이)',\n",
       " '레몬',\n",
       " '유자',\n",
       " '머위',\n",
       " '호밀',\n",
       " '브로콜리']"
      ]
     },
     "execution_count": 91,
     "metadata": {},
     "output_type": "execute_result"
    }
   ],
   "source": [
    "llist1=dt_la1.식품명.tolist()\n",
    "llist1[:20]"
   ]
  },
  {
   "cell_type": "code",
   "execution_count": 92,
   "metadata": {},
   "outputs": [],
   "source": [
    "dt_ac=dt_db.loc[:, ['식품명','탄수화물(g)','지방(g)','단백질(g)','칼슘(㎎)','칼륨(㎎)','칼슘(㎎)','철(㎎)','비타민 B2(㎎)','비타민 C(g)','총 식이섬유(g)']]\n",
    "dt_ac1=dt_ac[ dt_ac[\"식품명\"] == \"렌즈콩(렌틸콩)\"].copy()\n",
    "dt_ac2=dt_ac[ dt_ac[\"식품명\"] == \"위스키\"].copy()\n",
    "dt_ac3=dt_ac[ dt_ac[\"식품명\"] == \"녹두묵\"].copy()"
   ]
  },
  {
   "cell_type": "code",
   "execution_count": 93,
   "metadata": {},
   "outputs": [],
   "source": [
    "dt_acc=pd.concat([dt_ac1,dt_ac2,dt_ac3])\n",
    "dt_acc = dt_acc.drop_duplicates('식품명', keep='first')"
   ]
  },
  {
   "cell_type": "code",
   "execution_count": 94,
   "metadata": {},
   "outputs": [
    {
     "data": {
      "text/plain": [
       "(24, 3)"
      ]
     },
     "execution_count": 94,
     "metadata": {},
     "output_type": "execute_result"
    }
   ],
   "source": [
    "dt = pd.read_csv(\"data/finaldata.csv\", encoding='CP949')\n",
    "dt.shape"
   ]
  },
  {
   "cell_type": "markdown",
   "metadata": {},
   "source": [
    "## 처음 추출한 식재료와 나중 추출한 식재료 비교"
   ]
  },
  {
   "cell_type": "code",
   "execution_count": 99,
   "metadata": {},
   "outputs": [
    {
     "data": {
      "text/plain": [
       "<matplotlib.axes._subplots.AxesSubplot at 0x1b5152d1ac8>"
      ]
     },
     "execution_count": 99,
     "metadata": {},
     "output_type": "execute_result"
    },
    {
     "data": {
      "image/png": "[encoded data removed]",
      "text/plain": [
       "<Figure size 864x576 with 1 Axes>"
      ]
     },
     "metadata": {
      "image/png": {
       "height": 486,
       "width": 720
      },
      "needs_background": "light"
     },
     "output_type": "display_data"
    }
   ],
   "source": [
    "plt.figure(figsize=(12,8))\n",
    "sequential_colors = sns.color_palette(\"RdBu\", 10)\n",
    "sns.set_palette(sequential_colors)\n",
    "plt.rc('font', size=12) \n",
    "sns.barplot(data=dt, x=\"영양소\",y='총량', hue='식품명')"
   ]
  },
  {
   "cell_type": "markdown",
   "metadata": {},
   "source": [
    "## 5. 만개의 레시피 크롤링"
   ]
  },
  {
   "cell_type": "code",
   "execution_count": 100,
   "metadata": {},
   "outputs": [],
   "source": [
    "import requests\n",
    "from bs4 import BeautifulSoup\n",
    "from pprint import pprint\n",
    "# webpage = requests.get(\"https://www.10000recipe.com/recipe/6919794\")\n",
    "# soup = BeautifulSoup(webpage.content, \"html.parser\")\n",
    "# print(soup)"
   ]
  },
  {
   "cell_type": "code",
   "execution_count": 102,
   "metadata": {
    "scrolled": true
   },
   "outputs": [],
   "source": [
    "html = requests.get('https://www.10000recipe.com/recipe/6919794')\n",
    "# pprint(html.text)\n",
    "soup = BeautifulSoup(html.text, 'html.parser')\n",
    "data1 = soup.find('div', {'class':'view_step'})"
   ]
  },
  {
   "cell_type": "code",
   "execution_count": 103,
   "metadata": {},
   "outputs": [
    {
     "name": "stdout",
     "output_type": "stream",
     "text": [
      "[<div class=\"media-body\" id=\"stepdescr1\">참치캔을 따서 채반에 넣고 기름을 쪽 빼주세요.</div>, <div class=\"media-body\" id=\"stepdescr2\">단무지는 잘게잘게 다져주세요.<p class=\"step_add add_tip2\">오독오독 식감 일품! <br>\n",
      "없어도 무방!</br></p></div>, <div class=\"media-body\" id=\"stepdescr3\">큰 볼에 다진단무지, 기름뺀 참치를 넣고 (밥숟가락)설탕 반스푼, 마요네즈 2큰술, 후춧가루 적당히 넣고 비벼주세요</div>, <div class=\"media-body\" id=\"stepdescr4\">밥 1공기를 넣고 간장 반스푼 통깨 팍팍 넣고 다시 한번 잘 비벼주세요.</div>, <div class=\"media-body\" id=\"stepdescr5\">도시락 김을 뜯어서 밥한숟가락 떠서 돌돌 말아주세요.</div>, <div class=\"media-body\" id=\"stepdescr6\">이대로 냠냠해도 꿀맛!<br/>\n",
      "눈으로 한입~ 마요네즈로 플레이팅!</div>]\n"
     ]
    }
   ],
   "source": [
    "data2=data1.find_all('div',{'class':'media-body'})\n",
    "print(data2)\n",
    "# try:\n",
    "#     for n in data1.find('div',{'class':'media-body'}):\n",
    "#         print(n)"
   ]
  },
  {
   "cell_type": "code",
   "execution_count": 104,
   "metadata": {},
   "outputs": [
    {
     "name": "stdout",
     "output_type": "stream",
     "text": [
      "참치캔을 따서 채반에 넣고 기름을 쪽 빼주세요.\n",
      "단무지는 잘게잘게 다져주세요.오독오독 식감 일품! \n",
      "없어도 무방!\n",
      "큰 볼에 다진단무지, 기름뺀 참치를 넣고 (밥숟가락)설탕 반스푼, 마요네즈 2큰술, 후춧가루 적당히 넣고 비벼주세요\n",
      "밥 1공기를 넣고 간장 반스푼 통깨 팍팍 넣고 다시 한번 잘 비벼주세요.\n",
      "도시락 김을 뜯어서 밥한숟가락 떠서 돌돌 말아주세요.\n",
      "이대로 냠냠해도 꿀맛!\n",
      "눈으로 한입~ 마요네즈로 플레이팅!\n"
     ]
    }
   ],
   "source": [
    "for i in data2:\n",
    "    print(i.text)"
   ]
  },
  {
   "cell_type": "code",
   "execution_count": 105,
   "metadata": {},
   "outputs": [],
   "source": [
    "import urllib.request\n",
    "## url 통해서 한페이지의 제목과 레시피 크롤링\n",
    "\n",
    "def OnePageCrawler(recipeUrl):\n",
    "    url='https://www.10000recipe.com'+recipeUrl\n",
    "    html = requests.get(url)\n",
    "    soup = BeautifulSoup(html.text, 'html.parser')\n",
    "    \n",
    "    title = soup.find('div', {'class':'view2_summary'})\n",
    "    title_txt = title.find('h3')\n",
    "    titlename=title_txt.text\n",
    "#     print(\"이름: \"+titlename)\n",
    "#     print()\n",
    "    f.write(\"이름: \"+titlename+'\\n')\n",
    "    \n",
    "    ingre = soup.find('ul', {'class':'case1'})\n",
    "    if(str(type(ingre))!=\"<class 'NoneType'>\"):\n",
    "        ingre_txt=ingre.find_all('li') # 재료 관련 데이터 묶어서 오브젝트로\n",
    "#         ingre_txt=ingre.find_all('span', {'class':'ingre_unit'}) # 재료 관련 데이터 묶어서 오브젝트로\n",
    "        for i in ingre_txt:\n",
    "#             print(i.text)\n",
    "            f.write(i.text+'\\n')\n",
    "        f.write('\\n')\n",
    "    \n",
    "    recipe = soup.find('div', {'class':'view_step'})\n",
    "    recipe_txt=recipe.find_all('div',{'class':'media-body'}) # 레시피 관련 데이터 묶어서 오브젝트로\n",
    "    for i in recipe_txt:\n",
    "#         print(i.text)\n",
    "        f.write(i.text+'\\n')\n",
    "    f.write('\\n')\n",
    "    \n",
    "## 음식 이름으로 찾기\n",
    "def Search(name):\n",
    "    url='https://www.10000recipe.com/recipe/list.html?q='+name\n",
    "    html = requests.get(url)\n",
    "    soup = BeautifulSoup(html.text, \"html.parser\")\n",
    "    \n",
    "    i=0\n",
    "    for href in soup.find(\"ul\", class_=\"common_sp_list_ul ea4\").find_all(\"li\"):\n",
    "        OnePageCrawler(href.find(\"a\")[\"href\"])\n",
    "        i+=1\n",
    "        if i==3:\n",
    "            break"
   ]
  },
  {
   "cell_type": "markdown",
   "metadata": {},
   "source": [
    "## 5. 태그 데이터 크롤링"
   ]
  },
  {
   "cell_type": "code",
   "execution_count": 330,
   "metadata": {},
   "outputs": [],
   "source": [
    "import urllib.request\n",
    "## url 통해서 한페이지의 제목과 레시피 크롤링\n",
    "\n",
    "def OnePageCrawler(recipeUrl):\n",
    "    url='https://www.10000recipe.com'+recipeUrl\n",
    "    html = requests.get(url)\n",
    "    soup = BeautifulSoup(html.text, 'html.parser')\n",
    "\n",
    "    tag = soup.find('div', {'class':'view_tag'})\n",
    "    line=[]\n",
    "    if(str(type(tag))!=\"<class 'NoneType'>\"):\n",
    "        tag_txt=tag.find_all('a') # 재료 관련 데이터 묶어서 오브젝트로\n",
    "        for i in tag_txt:\n",
    "#             print(i.text)\n",
    "            line.append(i.text)\n",
    "    tagdata.append(line)\n",
    "    \n",
    "def Search(page):\n",
    "#     url='https://www.10000recipe.com/recipe/list.html?order=reco&page='+page\n",
    "    url='https://www.10000recipe.com/recipe/list.html?q=%EC%95%84%EC%B9%A8&order=reco&page='+page\n",
    "    html = requests.get(url)\n",
    "    soup = BeautifulSoup(html.text, \"html.parser\")\n",
    "    \n",
    "    for href in soup.find(\"ul\", class_=\"common_sp_list_ul ea4\").find_all(\"li\"):\n",
    "        OnePageCrawler(href.find(\"a\")[\"href\"])"
   ]
  },
  {
   "cell_type": "code",
   "execution_count": 329,
   "metadata": {},
   "outputs": [
    {
     "ename": "NameError",
     "evalue": "name 'page' is not defined",
     "output_type": "error",
     "traceback": [
      "\u001b[1;31m---------------------------------------------------------------------------\u001b[0m",
      "\u001b[1;31mNameError\u001b[0m                                 Traceback (most recent call last)",
      "\u001b[1;32m<ipython-input-329-8251a616e67f>\u001b[0m in \u001b[0;36m<module>\u001b[1;34m\u001b[0m\n\u001b[0;32m      1\u001b[0m \u001b[0mid1\u001b[0m\u001b[1;33m=\u001b[0m\u001b[1;33m[\u001b[0m\u001b[1;33m]\u001b[0m\u001b[1;33m\u001b[0m\u001b[1;33m\u001b[0m\u001b[0m\n\u001b[0;32m      2\u001b[0m \u001b[0mid2\u001b[0m\u001b[1;33m=\u001b[0m\u001b[1;33m[\u001b[0m\u001b[1;33m]\u001b[0m\u001b[1;33m\u001b[0m\u001b[1;33m\u001b[0m\u001b[0m\n\u001b[1;32m----> 3\u001b[1;33m \u001b[0murl\u001b[0m\u001b[1;33m=\u001b[0m\u001b[1;34m'https://www.10000recipe.com/recipe/list.html?q=%EC%95%84%EC%B9%A8&order=reco&page='\u001b[0m\u001b[1;33m+\u001b[0m\u001b[0mpage\u001b[0m\u001b[1;33m\u001b[0m\u001b[1;33m\u001b[0m\u001b[0m\n\u001b[0m\u001b[0;32m      4\u001b[0m \u001b[0mhtml\u001b[0m \u001b[1;33m=\u001b[0m \u001b[0mrequests\u001b[0m\u001b[1;33m.\u001b[0m\u001b[0mget\u001b[0m\u001b[1;33m(\u001b[0m\u001b[0murl\u001b[0m\u001b[1;33m)\u001b[0m\u001b[1;33m\u001b[0m\u001b[1;33m\u001b[0m\u001b[0m\n\u001b[0;32m      5\u001b[0m \u001b[0msoup\u001b[0m \u001b[1;33m=\u001b[0m \u001b[0mBeautifulSoup\u001b[0m\u001b[1;33m(\u001b[0m\u001b[0mhtml\u001b[0m\u001b[1;33m.\u001b[0m\u001b[0mtext\u001b[0m\u001b[1;33m,\u001b[0m \u001b[1;34m\"html.parser\"\u001b[0m\u001b[1;33m)\u001b[0m\u001b[1;33m\u001b[0m\u001b[1;33m\u001b[0m\u001b[0m\n",
      "\u001b[1;31mNameError\u001b[0m: name 'page' is not defined"
     ]
    }
   ],
   "source": [
    "id1=[]\n",
    "id2=[]\n",
    "for i in range(1,16)\n",
    "    url='https://www.10000recipe.com/recipe/list.html?q=%EC%95%84%EC%B9%A8&order=reco&page='+i\n",
    "    html = requests.get(url)\n",
    "    soup = BeautifulSoup(html.text, \"html.parser\")\n",
    "\n",
    "    for href in soup.find(\"ul\", class_=\"common_sp_list_ul ea4\").find_all(\"li\"):\n",
    "        id1+=href.find(\"a\")[\"href\"]"
   ]
  },
  {
   "cell_type": "code",
   "execution_count": null,
   "metadata": {},
   "outputs": [],
   "source": []
  }
 ],
 "metadata": {
  "kernelspec": {
   "display_name": "Python 3",
   "language": "python",
   "name": "python3"
  },
  "language_info": {
   "codemirror_mode": {
    "name": "ipython",
    "version": 3
   },
   "file_extension": ".py",
   "mimetype": "text/x-python",
   "name": "python",
   "nbconvert_exporter": "python",
   "pygments_lexer": "ipython3",
   "version": "3.7.4"
  }
 },
 "nbformat": 4,
 "nbformat_minor": 2
}
